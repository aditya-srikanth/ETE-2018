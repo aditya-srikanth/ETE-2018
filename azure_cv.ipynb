{
 "cells": [
  {
   "cell_type": "code",
   "execution_count": 4,
   "metadata": {},
   "outputs": [],
   "source": [
    "import time \n",
    "import requests\n",
    "import operator\n",
    "import numpy as np\n",
    "from __future__ import print_function\n",
    "\n",
    "# Import library to display results\n",
    "import matplotlib.pyplot as plt\n",
    "%matplotlib inline \n",
    "# Display images within Jupyter"
   ]
  },
  {
   "cell_type": "code",
   "execution_count": 9,
   "metadata": {},
   "outputs": [],
   "source": [
    "_region = 'westcentralus' #Here you enter the region of your subscription\n",
    "_url = 'https://{}.api.cognitive.microsoft.com/vision/v1.0/analyze'.format(_region)\n",
    "_key = '01c8333210854059a6c2df093bf1b284'\n",
    "_maxNumRetries = 10"
   ]
  },
  {
   "cell_type": "code",
   "execution_count": 12,
   "metadata": {},
   "outputs": [],
   "source": [
    "def processRequest( json, data, headers, params ):\n",
    "\n",
    "    \"\"\"\n",
    "    Helper function to process the request to Project Oxford\n",
    "\n",
    "    Parameters:\n",
    "    json: Used when processing images from its URL. See API Documentation\n",
    "    data: Used when processing image read from disk. See API Documentation\n",
    "    headers: Used to pass the key information and the data type request\n",
    "    \"\"\"\n",
    "\n",
    "    retries = 0\n",
    "    result = None\n",
    "\n",
    "    while True:\n",
    "\n",
    "        response = requests.request( 'post', _url, json = json, data = data, headers = headers, params = params )\n",
    "\n",
    "        if response.status_code == 429: \n",
    "\n",
    "            print( \"Message: %s\" % ( response.json() ) )\n",
    "\n",
    "            if retries <= _maxNumRetries: \n",
    "                time.sleep(1) \n",
    "                retries += 1\n",
    "                continue\n",
    "            else: \n",
    "                print( 'Error: failed after retrying!' )\n",
    "                break\n",
    "\n",
    "        elif response.status_code == 200 or response.status_code == 201:\n",
    "\n",
    "            if 'content-length' in response.headers and int(response.headers['content-length']) == 0: \n",
    "                result = None \n",
    "            elif 'content-type' in response.headers and isinstance(response.headers['content-type'], str): \n",
    "                if 'application/json' in response.headers['content-type'].lower(): \n",
    "                    result = response.json() if response.content else None \n",
    "                    print(response.elapsed.total_seconds())\n",
    "                elif 'image' in response.headers['content-type'].lower(): \n",
    "                    result = response.content\n",
    "        else:\n",
    "            print( \"Error code: %d\" % ( response.status_code ) )\n",
    "            print( \"Message: %s\" % ( response.json() ) )\n",
    "\n",
    "        break\n",
    "        \n",
    "    return result"
   ]
  },
  {
   "cell_type": "code",
   "execution_count": 17,
   "metadata": {},
   "outputs": [
    {
     "name": "stdout",
     "output_type": "stream",
     "text": [
      "5.289685\n",
      "{'categories': [{'name': 'outdoor_', 'score': 0.01953125, 'detail': {'landmarks': []}}, {'name': 'outdoor_street', 'score': 0.35546875, 'detail': {'landmarks': []}}], 'description': {'tags': ['building', 'outdoor', 'street', 'scene', 'sidewalk', 'road', 'city', 'wet', 'rain', 'parked', 'water', 'side', 'walking', 'lined', 'man', 'rainy', 'umbrella', 'hydrant', 'fire', 'covered', 'red', 'holding', 'brick', 'riding', 'old', 'bus', 'tall', 'sign', 'traffic', 'people', 'standing', 'group'], 'captions': [{'text': 'a rainy city street', 'confidence': 0.8684569279238283}]}, 'color': {'dominantColorForeground': 'Grey', 'dominantColorBackground': 'Grey', 'dominantColors': ['Grey'], 'accentColor': '976834', 'isBwImg': False}, 'requestId': '4bd07c1a-4062-4421-8cfd-6a2668015242', 'metadata': {'height': 420, 'width': 631, 'format': 'Jpeg'}}\n"
     ]
    }
   ],
   "source": [
    "image_path = '/Users/balli/Downloads/ss2.jpg'\n",
    "with open( image_path , 'rb' ) as f:\n",
    "    data = f.read()\n",
    "    \n",
    "# Computer Vision parameters\n",
    "params = { 'visualFeatures' : 'Color,Categories,Description'} \n",
    "\n",
    "headers = dict()\n",
    "headers['Ocp-Apim-Subscription-Key'] = _key\n",
    "headers['Content-Type'] = 'application/octet-stream'\n",
    "\n",
    "json = None\n",
    "\n",
    "result = processRequest( json, data, headers, params )\n",
    "\n",
    "if result is not None:\n",
    "    print(result)"
   ]
  },
  {
   "cell_type": "code",
   "execution_count": null,
   "metadata": {},
   "outputs": [],
   "source": []
  }
 ],
 "metadata": {
  "kernelspec": {
   "display_name": "Python 3",
   "language": "python",
   "name": "python3"
  },
  "language_info": {
   "codemirror_mode": {
    "name": "ipython",
    "version": 3
   },
   "file_extension": ".py",
   "mimetype": "text/x-python",
   "name": "python",
   "nbconvert_exporter": "python",
   "pygments_lexer": "ipython3",
   "version": "3.6.4"
  }
 },
 "nbformat": 4,
 "nbformat_minor": 2
}
